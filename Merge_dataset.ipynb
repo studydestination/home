{
  "nbformat": 4,
  "nbformat_minor": 0,
  "metadata": {
    "colab": {
      "provenance": [],
      "mount_file_id": "10P64tMpFRSoxZCdxGpHdJ6Yed2A-83Ta",
      "authorship_tag": "ABX9TyOe4d0b1Qp1nsOntilAiVg7",
      "include_colab_link": true
    },
    "kernelspec": {
      "name": "python3",
      "display_name": "Python 3"
    },
    "language_info": {
      "name": "python"
    }
  },
  "cells": [
    {
      "cell_type": "markdown",
      "metadata": {
        "id": "view-in-github",
        "colab_type": "text"
      },
      "source": [
        "<a href=\"https://colab.research.google.com/github/studydestination/home/blob/master/Merge_dataset.ipynb\" target=\"_parent\"><img src=\"https://colab.research.google.com/assets/colab-badge.svg\" alt=\"Open In Colab\"/></a>"
      ]
    },
    {
      "cell_type": "code",
      "execution_count": null,
      "metadata": {
        "id": "KMXB2aIONh_F"
      },
      "outputs": [],
      "source": []
    },
    {
      "cell_type": "code",
      "source": [
        "from google.colab import drive\n",
        "drive.mount('/content/drive')"
      ],
      "metadata": {
        "colab": {
          "base_uri": "https://localhost:8080/"
        },
        "id": "ZsJpZ_ZqN48-",
        "outputId": "2dc99b1e-e67e-4c53-f05c-de90cd3263db"
      },
      "execution_count": null,
      "outputs": [
        {
          "output_type": "stream",
          "name": "stdout",
          "text": [
            "Mounted at /content/drive\n"
          ]
        }
      ]
    },
    {
      "cell_type": "code",
      "source": [
        "import pandas as pd\n",
        "import numpy as np\n",
        "\n",
        "df=pd.read_csv(\"/content/drive/MyDrive/Colab Notebooks/t1.csv\")\n",
        "#df.head()\n",
        "\n",
        "df1=pd.read_csv(\"/content/t2.csv\")\n",
        "#df1.head()\n",
        "\n",
        "# Merge dataframes\n",
        "merged_df = pd.merge(df, df1, on='label')\n",
        "merged_df.head()"
      ],
      "metadata": {
        "id": "D4BTjYo-OMwC"
      },
      "execution_count": null,
      "outputs": []
    },
    {
      "cell_type": "code",
      "source": [],
      "metadata": {
        "id": "-bC3tIiUxNde"
      },
      "execution_count": null,
      "outputs": []
    },
    {
      "cell_type": "markdown",
      "source": [
        "# New Section"
      ],
      "metadata": {
        "id": "4orX_u0aN0gB"
      }
    }
  ]
}